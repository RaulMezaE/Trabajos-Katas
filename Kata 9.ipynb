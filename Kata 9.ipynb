{
 "cells": [
  {
   "cell_type": "markdown",
   "metadata": {},
   "source": [
    "KATA 9 Funciones\n"
   ]
  },
  {
   "cell_type": "code",
   "execution_count": null,
   "metadata": {},
   "outputs": [],
   "source": [
    "def generar_reporte(main_tank, external_tank, hydrogen_tank):\n",
    "    total_promedio = (main_tank + external_tank + hydrogen_tank)/3\n",
    "    return f\"\"\"Fuel Report:\n",
    "    Total promedio: {total_promedio}%\n",
    "    Main tank: {main_tank}%\n",
    "    External tank: {external_tank}%\n",
    "    Hydrogen tank: {hydrogen_tank}%\n",
    "    \"\"\"\n",
    "print(generar_reporte(80, 70, 85))\n",
    "def promedio (values):\n",
    "    total = sum(values)\n",
    "    numero_de_objetos = len(values)\n",
    "    return total / numero_de_objetos\n",
    "promedio([80, 85, 81])\n",
    "\n",
    "def generar_reporte(main_tank, external_tank, hydrogen_tank):\n",
    "    total_promedio = (main_tank + external_tank + hydrogen_tank)/3\n",
    "    return f\"\"\"Fuel Report:\n",
    "    Total promedio: {total_promedio}%\n",
    "    Main tank: {main_tank}%\n",
    "    External tank: {external_tank}%\n",
    "    Hydrogen tank: {hydrogen_tank}%\n",
    "    \"\"\"\n",
    "print(generar_reporte(88, 76, 70))\n"
   ]
  },
  {
   "cell_type": "markdown",
   "metadata": {},
   "source": [
    "Ejercicio 2\n"
   ]
  },
  {
   "cell_type": "code",
   "execution_count": 9,
   "metadata": {},
   "outputs": [
    {
     "name": "stdout",
     "output_type": "stream",
     "text": [
      " Mission rumbo Luna\n",
      "    Tiempo total de viaje:65 minutos\n",
      "    total de combustible:500000 galones\n",
      "    \n",
      " Mission rumbo Luna\n",
      "    Tiempo total de viaje: 76 minutos\n",
      "    total de combustible: 230000\n",
      "    \n",
      "\n",
      "    Tiempo total de viaje: 74 minutos\n",
      "    total de combustible: 50000\n",
      "    main tank --> 30000 galones restantes \n",
      "external tank --> 20000 galones restantes \n",
      "\n"
     ]
    }
   ],
   "source": [
    "def Reporte_mission(pre_launch_time, flight_time, destino, external_tank, main_tank):\n",
    "    return f\"\"\" Mission rumbo {destino}\n",
    "    Tiempo total de viaje:{pre_launch_time + flight_time} minutos\n",
    "    total de combustible:{external_tank + main_tank} galones\n",
    "    \"\"\"\n",
    "\n",
    "print(Reporte_mission(14, 51, \"Luna\", 200000, 300000))\n",
    "\n",
    "def Reporte_mission (destino, *minutos, **depositoC):\n",
    "    return f\"\"\" Mission rumbo {destino}\n",
    "    Tiempo total de viaje: {sum(minutos)} minutos\n",
    "    total de combustible: {sum(depositoC.values())}\n",
    "    \"\"\"\n",
    "print(Reporte_mission(\"Luna\", 10, 15, 51, main=30000, external=200000))\n",
    "\n",
    "\n",
    "def Reporte_mission (destino, *minutos, **depositoC):\n",
    "    main_report = f\"\"\"\n",
    "    Tiempo total de viaje: {sum(minutos)} minutos\n",
    "    total de combustible: {sum(depositoC.values())}\n",
    "    \"\"\"\n",
    "    for tank_name, galones in depositoC.items():\n",
    "        main_report += f\"{tank_name} tank --> {galones} galones restantes \\n\"\n",
    "    return main_report\n",
    "print(Reporte_mission(\"Luna\", 8, 11, 55, main=30000, external=20000))"
   ]
  }
 ],
 "metadata": {
  "interpreter": {
   "hash": "b50034235ccfb4eb84e55d67286db12ffb1028219bdd46ab7e58dc53c0598faa"
  },
  "kernelspec": {
   "display_name": "Python 3.10.2 64-bit",
   "language": "python",
   "name": "python3"
  },
  "language_info": {
   "codemirror_mode": {
    "name": "ipython",
    "version": 3
   },
   "file_extension": ".py",
   "mimetype": "text/x-python",
   "name": "python",
   "nbconvert_exporter": "python",
   "pygments_lexer": "ipython3",
   "version": "3.10.2"
  },
  "orig_nbformat": 4
 },
 "nbformat": 4,
 "nbformat_minor": 2
}
