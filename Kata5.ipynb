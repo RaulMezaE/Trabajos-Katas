{
 "cells": [
  {
   "cell_type": "markdown",
   "metadata": {},
   "source": [
    "Kata 5 Operaciones matameticas"
   ]
  },
  {
   "cell_type": "code",
   "execution_count": 6,
   "metadata": {},
   "outputs": [
    {
     "name": "stdout",
     "output_type": "stream",
     "text": [
      "628949330 km\n",
      "390577533.93 millas\n"
     ]
    }
   ],
   "source": [
    "Tierra = 149597870\n",
    "Jupiter = 778547200\n",
    "DistanciaKm = Jupiter - Tierra\n",
    "print (DistanciaKm,('km'))\n",
    "DistanciaMillas = DistanciaKm * .621\n",
    "print (DistanciaMillas,('millas'))\n"
   ]
  },
  {
   "cell_type": "markdown",
   "metadata": {},
   "source": [
    "Ejercicio 2"
   ]
  },
  {
   "cell_type": "code",
   "execution_count": 7,
   "metadata": {},
   "outputs": [
    {
     "name": "stdout",
     "output_type": "stream",
     "text": [
      "30\n",
      "18.63\n"
     ]
    }
   ],
   "source": [
    "Tierra = input('distancia del sol a la tierra en km')\n",
    "Marte = input('distancia del sol a marte en km')\n",
    "Tierra = int(Tierra)\n",
    "Marte = int(Marte)\n",
    "Distanciakilo = Marte - Tierra\n",
    "print(Distanciakilo)\n",
    "Distanciamil = Distanciakilo * .621\n",
    "print (Distanciamil)"
   ]
  }
 ],
 "metadata": {
  "interpreter": {
   "hash": "b50034235ccfb4eb84e55d67286db12ffb1028219bdd46ab7e58dc53c0598faa"
  },
  "kernelspec": {
   "display_name": "Python 3.10.2 64-bit",
   "language": "python",
   "name": "python3"
  },
  "language_info": {
   "codemirror_mode": {
    "name": "ipython",
    "version": 3
   },
   "file_extension": ".py",
   "mimetype": "text/x-python",
   "name": "python",
   "nbconvert_exporter": "python",
   "pygments_lexer": "ipython3",
   "version": "3.10.2"
  },
  "orig_nbformat": 4
 },
 "nbformat": 4,
 "nbformat_minor": 2
}
