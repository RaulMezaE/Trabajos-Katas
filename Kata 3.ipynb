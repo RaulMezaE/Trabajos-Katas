{
 "cells": [
  {
   "cell_type": "markdown",
   "metadata": {},
   "source": [
    "Kata #3 Escribir declaraciones if, else, y elif"
   ]
  },
  {
   "cell_type": "code",
   "execution_count": 9,
   "metadata": {},
   "outputs": [
    {
     "name": "stdout",
     "output_type": "stream",
     "text": [
      "La destruccion se acerca\n"
     ]
    }
   ],
   "source": [
    "Meteoro = 38\n",
    "if Meteoro > 25:\n",
    " print('La destruccion se acerca')\n",
    "else:\n",
    " print('no pasa nada')"
   ]
  },
  {
   "cell_type": "markdown",
   "metadata": {},
   "source": [
    "Problema No. 2"
   ]
  },
  {
   "cell_type": "code",
   "execution_count": 11,
   "metadata": {},
   "outputs": [
    {
     "name": "stdout",
     "output_type": "stream",
     "text": [
      "Destello de luz aproximandose\n"
     ]
    }
   ],
   "source": [
    "Velocidad = 27\n",
    "if Velocidad >= 20:\n",
    "    print('Destello de luz aproximandose')\n",
    "else:\n",
    "    print('no se ve nada')    "
   ]
  },
  {
   "cell_type": "markdown",
   "metadata": {},
   "source": [
    "Problema No. 3"
   ]
  },
  {
   "cell_type": "code",
   "execution_count": 14,
   "metadata": {},
   "outputs": [
    {
     "name": "stdout",
     "output_type": "stream",
     "text": [
      "Fuerte impacto aproximandose\n"
     ]
    }
   ],
   "source": [
    "Velocidad_meteoro = 27\n",
    "tamaño_meteoro = 38\n",
    "if Velocidad_meteoro > 20 and tamaño_meteoro >25:\n",
    "    print('Fuerte impacto aproximandose')\n",
    "elif Velocidad_meteoro == 20:\n",
    "    print('Velocidad Alta peligro')\n",
    "else:\n",
    "    print('FUERA DE PELIGRO')"
   ]
  }
 ],
 "metadata": {
  "interpreter": {
   "hash": "b50034235ccfb4eb84e55d67286db12ffb1028219bdd46ab7e58dc53c0598faa"
  },
  "kernelspec": {
   "display_name": "Python 3.10.2 64-bit",
   "language": "python",
   "name": "python3"
  },
  "language_info": {
   "codemirror_mode": {
    "name": "ipython",
    "version": 3
   },
   "file_extension": ".py",
   "mimetype": "text/x-python",
   "name": "python",
   "nbconvert_exporter": "python",
   "pygments_lexer": "ipython3",
   "version": "3.10.2"
  },
  "orig_nbformat": 4
 },
 "nbformat": 4,
 "nbformat_minor": 2
}
